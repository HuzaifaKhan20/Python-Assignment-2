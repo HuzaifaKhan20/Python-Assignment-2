{
 "cells": [
  {
   "cell_type": "code",
   "execution_count": 3,
   "id": "2e7c5d31-ef4e-4b98-881a-fd5d3a8dfe6b",
   "metadata": {},
   "outputs": [
    {
     "name": "stdin",
     "output_type": "stream",
     "text": [
      "Enter the age of the person:  18\n"
     ]
    },
    {
     "name": "stdout",
     "output_type": "stream",
     "text": [
      "The person is classified as: Teenager\n"
     ]
    }
   ],
   "source": [
    "# Question 1: Age Group Classification\n",
    "\n",
    "age = int(input(\"Enter the age of the person: \"))\n",
    "\n",
    "if age < 0:\n",
    "    print(\"Invalid age\")\n",
    "elif age <= 12:\n",
    "    print(\"The person is classified as: Child\")\n",
    "elif age <= 19:\n",
    "    print(\"The person is classified as: Teenager\")\n",
    "elif age <= 64:\n",
    "    print(\"The person is classified as: Adult\")\n",
    "else:\n",
    "    print(\"The person is classified as: Senior\")"
   ]
  },
  {
   "cell_type": "code",
   "execution_count": 7,
   "id": "44878833-91a4-452b-972d-138ab60b9d87",
   "metadata": {},
   "outputs": [
    {
     "name": "stdin",
     "output_type": "stream",
     "text": [
      "Enter membership status (premium/regular):  premium\n",
      "Enter purchase amount:  5000\n"
     ]
    },
    {
     "name": "stdout",
     "output_type": "stream",
     "text": [
      "Eligible for discount\n"
     ]
    }
   ],
   "source": [
    "# Question 2: Checking for Eligibility for Discount\n",
    "\n",
    "membership_status = input(\"Enter membership status (premium/regular): \")\n",
    "purchase_amount = float(input(\"Enter purchase amount: \"))\n",
    "\n",
    "if membership_status == \"premium\" and purchase_amount >= 1000:\n",
    "    print(\"Eligible for discount\")\n",
    "elif membership_status == \"regular\" and purchase_amount >= 2000:\n",
    "    print(\"Eligible for discount\")\n",
    "else:\n",
    "    print(\"Not eligible for discount\")"
   ]
  },
  {
   "cell_type": "code",
   "execution_count": 9,
   "id": "11ea160b-6ddc-47dc-8fd2-9ec2f05936f7",
   "metadata": {},
   "outputs": [
    {
     "name": "stdin",
     "output_type": "stream",
     "text": [
      "Enter your age:  20\n",
      "Enter your citizenship status (citizen/non-citizen):  citizen\n",
      "Are you from a special region where voting is allowed from age 16? (yes/no):  no\n"
     ]
    },
    {
     "name": "stdout",
     "output_type": "stream",
     "text": [
      "Eligible to vote\n"
     ]
    }
   ],
   "source": [
    "# Question 3: Voting Eligibility Check\n",
    "\n",
    "age = int(input(\"Enter your age: \"))\n",
    "citizenship_status = input(\"Enter your citizenship status (citizen/non-citizen): \")\n",
    "special_region = input(\"Are you from a special region where voting is allowed from age 16? (yes/no): \")\n",
    "\n",
    "if citizenship_status == \"citizen\" and age >= 18:\n",
    "    print(\"Eligible to vote\")\n",
    "elif citizenship_status == \"citizen\" and age >= 16 and special_region == \"yes\":\n",
    "    print(\"Eligible to vote\")\n",
    "else:\n",
    "    print(\"Not eligible to vote\")"
   ]
  },
  {
   "cell_type": "code",
   "execution_count": 11,
   "id": "04c91522-0816-413c-bf4d-9e4f8cd39d57",
   "metadata": {},
   "outputs": [
    {
     "name": "stdin",
     "output_type": "stream",
     "text": [
      "Enter performance rating (Excellent/Good/Satisfactory):  Good\n",
      "Enter years of service:  16\n"
     ]
    },
    {
     "name": "stdout",
     "output_type": "stream",
     "text": [
      "Eligible for bonus\n"
     ]
    }
   ],
   "source": [
    "# Question 4: Employee Salary Bonus Eligibility\n",
    "\n",
    "performance_rating = input(\"Enter performance rating (Excellent/Good/Satisfactory): \")\n",
    "years_of_service = int(input(\"Enter years of service: \"))\n",
    "\n",
    "if performance_rating == \"Excellent\" and years_of_service >= 5:\n",
    "    print(\"Eligible for bonus\")\n",
    "elif performance_rating == \"Good\" and years_of_service >= 10:\n",
    "    print(\"Eligible for bonus\")\n",
    "elif performance_rating == \"Satisfactory\" or years_of_service >= 15:\n",
    "    print(\"Eligible for bonus\")\n",
    "else:\n",
    "    print(\"Not eligible for bonus\")"
   ]
  },
  {
   "cell_type": "code",
   "execution_count": 15,
   "id": "c117eddd-fc3a-4aaf-9a79-e896838636ff",
   "metadata": {},
   "outputs": [
    {
     "name": "stdout",
     "output_type": "stream",
     "text": [
      "Modified text: I'm_learning_Python_programming\n",
      "Number of underscores: 3\n",
      "Position of the first underscore: 3\n"
     ]
    }
   ],
   "source": [
    "# Question 5. Write a program that replaces spaces with underscores, counts how many underscores are there, and finds the position of the first underscore.\n",
    "# Use text: \"I'm learning Python programming\"?\n",
    "\n",
    "text = \"I'm learning Python programming\"\n",
    "modified_text = text.replace(\" \", \"_\")\n",
    "underscore_count = modified_text.count(\"_\")\n",
    "\n",
    "first_underscore_position = modified_text.find(\"_\")\n",
    "print(f\"Modified text: {modified_text}\")\n",
    "print(f\"Number of underscores: {underscore_count}\")\n",
    "print(f\"Position of the first underscore: {first_underscore_position}\")"
   ]
  },
  {
   "cell_type": "code",
   "execution_count": 19,
   "id": "0060cc7d-fc71-4f99-a69b-21f05f7244e7",
   "metadata": {},
   "outputs": [
    {
     "name": "stdin",
     "output_type": "stream",
     "text": [
      "Enter a string:  Python programming\n"
     ]
    },
    {
     "name": "stdout",
     "output_type": "stream",
     "text": [
      "String without the last 3 characters: Python programm\n",
      "Every second character of the string: Pto rgamn\n",
      "Reversed string: gnimmargorp nohtyP\n"
     ]
    }
   ],
   "source": [
    "# Question 6:\n",
    "\n",
    "input_string = input(\"Enter a string: \")\n",
    "print(\"String without the last 3 characters:\", input_string[:-3])\n",
    "print(\"Every second character of the string:\", input_string[::2])\n",
    "print(\"Reversed string:\", input_string[::-1])"
   ]
  },
  {
   "cell_type": "code",
   "execution_count": 21,
   "id": "5fae7442-a1f8-4d42-82f6-eadc8882d306",
   "metadata": {},
   "outputs": [
    {
     "name": "stdout",
     "output_type": "stream",
     "text": [
      "Original sentence: Hello World, We are learning Python\n",
      "Reversed sentence: Python learning are We World, Hello\n"
     ]
    }
   ],
   "source": [
    "# Question 7. Given a sentence, you need to reverse the order of the words in the sentence while preserving their original capitalization and spaces.\n",
    "# Use text: \"Hello World, We are learning Python\"\n",
    "\n",
    "text = \"Hello World, We are learning Python\"\n",
    "words = text.split() \n",
    "reversed_words = words[::-1]\n",
    "reversed_sentence = \" \".join(reversed_words)\n",
    "print(\"Original sentence:\", text)\n",
    "print(\"Reversed sentence:\", reversed_sentence)\n"
   ]
  },
  {
   "cell_type": "code",
   "execution_count": 23,
   "id": "793ddd10-81df-437d-b489-2b7a65dc54a6",
   "metadata": {},
   "outputs": [
    {
     "name": "stdout",
     "output_type": "stream",
     "text": [
      "Extracted number: 12345\n"
     ]
    }
   ],
   "source": [
    "# Question 8. You have a product code that follows the format \"SKU-12345-XYZ\". You need to:Remove the \"SKU-\" and the \"-XYZ\" from the product code. Extract and return the number\n",
    "\n",
    "product_code = \"SKU-12345-XYZ\"\n",
    "number = product_code.replace(\"SKU-\", \"\").replace(\"-XYZ\", \"\")\n",
    "print(\"Extracted number:\", number)"
   ]
  },
  {
   "cell_type": "code",
   "execution_count": 25,
   "id": "965a05fe-7c9c-4a27-8298-5e48a8c92c57",
   "metadata": {},
   "outputs": [
    {
     "name": "stdin",
     "output_type": "stream",
     "text": [
      "Enter your password:  PythonCourse@123\n"
     ]
    },
    {
     "name": "stdout",
     "output_type": "stream",
     "text": [
      "Contains uppercase: True\n",
      "Contains lowercase: True\n",
      "Contains spaces: False\n",
      "Contains special characters: True\n"
     ]
    }
   ],
   "source": [
    "# Question 9. Write a Python program to check user password has following:\n",
    "# Whether the string contains any uppercase characters. Whether the string contains any lowercase characters. Whether the string contains any spaces. Whether the string contains any special characters (anything other than letters, digits, and spaces).\n",
    "\n",
    "import re\n",
    "\n",
    "password = input(\"Enter your password: \")\n",
    "has_upper = any(c.isupper() for c in password)\n",
    "has_lower = any(c.islower() for c in password)\n",
    "has_space = any(c.isspace() for c in password)\n",
    "has_special = bool(re.search(r'[^a-zA-Z0-9\\s]', password))\n",
    "print(\"Contains uppercase:\", has_upper)\n",
    "print(\"Contains lowercase:\", has_lower)\n",
    "print(\"Contains spaces:\", has_space)\n",
    "print(\"Contains special characters:\", has_special)"
   ]
  },
  {
   "cell_type": "code",
   "execution_count": 27,
   "id": "a750b98e-3d7f-4704-a2fd-bedee348193b",
   "metadata": {},
   "outputs": [
    {
     "name": "stdout",
     "output_type": "stream",
     "text": [
      "Longest word: programming\n"
     ]
    }
   ],
   "source": [
    "# Question 10: Find the Longest Word\n",
    "\n",
    "\n",
    "sentence = \"I love programming in Python\"\n",
    "words = sentence.split()\n",
    "longest_word = max(words, key=len)\n",
    "print(\"Longest word:\", longest_word)"
   ]
  },
  {
   "cell_type": "code",
   "execution_count": null,
   "id": "f73527f6-4914-44f1-9ba7-fe84ba772fa9",
   "metadata": {},
   "outputs": [],
   "source": []
  }
 ],
 "metadata": {
  "kernelspec": {
   "display_name": "Python 3 (ipykernel)",
   "language": "python",
   "name": "python3"
  },
  "language_info": {
   "codemirror_mode": {
    "name": "ipython",
    "version": 3
   },
   "file_extension": ".py",
   "mimetype": "text/x-python",
   "name": "python",
   "nbconvert_exporter": "python",
   "pygments_lexer": "ipython3",
   "version": "3.12.7"
  }
 },
 "nbformat": 4,
 "nbformat_minor": 5
}
